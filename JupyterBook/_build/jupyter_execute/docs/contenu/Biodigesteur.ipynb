{
 "cells": [
  {
   "cell_type": "markdown",
   "id": "1475b4c7",
   "metadata": {
    "tags": []
   },
   "source": [
    "# Dimensionnez votre biodigesteur domestique\n",
    "\n",
    "Ce document est régi par les termes de la licence juridique [Creative Commons CC-BY-SA 4.0](https://creativecommons.org/licenses/by-sa/4.0/deed.fr) \n",
    "\n",
    ":::{tip} To auto-exclude all files outside of your table of contents, see :::\n",
    "\n",
    ":::{seealso} and . :::\n",
    "\n",
    ":::{important} The default behaviour of cache is now to run in the local directory. This is a change from v0.7. :::\n",
    "\n",
    "\n",
    "\n",
    "---"
   ]
  },
  {
   "cell_type": "markdown",
   "id": "49fe04ff-318e-4310-96a2-bc48ebac5999",
   "metadata": {},
   "source": [
    "* Pour commencer, téléchargez le tableur"
   ]
  },
  {
   "cell_type": "code",
   "execution_count": 1,
   "id": "92bc4f13-e60b-413d-bae9-c0f8b8f04079",
   "metadata": {
    "tags": [
     "hide_input"
    ]
   },
   "outputs": [],
   "source": [
    "# Import des donnees calc\n",
    "\n",
    "import pandas as pd\n",
    "import numpy as np\n",
    "import ipywidgets as widgets"
   ]
  },
  {
   "cell_type": "markdown",
   "id": "56a37c49-6976-4013-834b-da43d2437920",
   "metadata": {},
   "source": [
    "[Lien de téléchargements WEB](https://konsilion.fr/wp/wp-content/uploads/2022/07/MetaConcept.xlsx)"
   ]
  },
  {
   "cell_type": "markdown",
   "id": "4d3b9284-b639-4052-a14c-c95dfc8dc830",
   "metadata": {},
   "source": [
    "---\n",
    "\n",
    "2. Une fois le tableur remplis, vous pouvez le reverser dans la machine."
   ]
  },
  {
   "cell_type": "code",
   "execution_count": 2,
   "id": "d20dfe99-f7cc-471e-a989-9c821fbd992e",
   "metadata": {
    "tags": [
     "hide_input"
    ]
   },
   "outputs": [
    {
     "data": {
      "application/vnd.jupyter.widget-view+json": {
       "model_id": "5a6f14ee4abb41bc98ff4f089bf54be8",
       "version_major": 2,
       "version_minor": 0
      },
      "text/plain": [
       "FileUpload(value={}, accept='.xlsx', description='Upload')"
      ]
     },
     "metadata": {},
     "output_type": "display_data"
    }
   ],
   "source": [
    "uploader = widgets.FileUpload(\n",
    "    accept='.xlsx',  # Accepted file extension e.g. '.txt', '.pdf', 'image/*', 'image/*,.pdf'\n",
    "    multiple=False  # True to accept multiple files upload else False\n",
    ")\n",
    "\n",
    "display(uploader)\n",
    "\n"
   ]
  },
  {
   "cell_type": "code",
   "execution_count": 3,
   "id": "18ec9c84-1202-42ea-8720-b71b8a39e98c",
   "metadata": {
    "tags": [
     "hide_input"
    ]
   },
   "outputs": [
    {
     "ename": "KeyError",
     "evalue": "'MetaConcept.xlsx'",
     "output_type": "error",
     "traceback": [
      "\u001b[0;31m---------------------------------------------------------------------------\u001b[0m",
      "\u001b[0;31mKeyError\u001b[0m                                  Traceback (most recent call last)",
      "\u001b[0;32m/tmp/ipykernel_258028/2066444861.py\u001b[0m in \u001b[0;36m<cell line: 1>\u001b[0;34m()\u001b[0m\n\u001b[0;32m----> 1\u001b[0;31m \u001b[0muploaded_file\u001b[0m \u001b[0;34m=\u001b[0m \u001b[0muploader\u001b[0m\u001b[0;34m.\u001b[0m\u001b[0mvalue\u001b[0m\u001b[0;34m[\u001b[0m\u001b[0;34m'MetaConcept.xlsx'\u001b[0m\u001b[0;34m]\u001b[0m\u001b[0;34m\u001b[0m\u001b[0;34m\u001b[0m\u001b[0m\n\u001b[0m",
      "\u001b[0;31mKeyError\u001b[0m: 'MetaConcept.xlsx'"
     ]
    }
   ],
   "source": [
    "uploaded_file = uploader.value['MetaConcept.xlsx']"
   ]
  },
  {
   "cell_type": "code",
   "execution_count": 11,
   "id": "783eba7e",
   "metadata": {
    "tags": [
     "hide_input",
     "remove_input"
    ]
   },
   "outputs": [
    {
     "ename": "NameError",
     "evalue": "name 'filename' is not defined",
     "output_type": "error",
     "traceback": [
      "\u001b[0;31m---------------------------------------------------------------------------\u001b[0m",
      "\u001b[0;31mNameError\u001b[0m                                 Traceback (most recent call last)",
      "\u001b[0;32m/tmp/ipykernel_253122/663140646.py\u001b[0m in \u001b[0;36m<cell line: 29>\u001b[0;34m()\u001b[0m\n\u001b[1;32m     27\u001b[0m         \u001b[0mglobals\u001b[0m\u001b[0;34m(\u001b[0m\u001b[0;34m)\u001b[0m\u001b[0;34m[\u001b[0m\u001b[0mdf\u001b[0m\u001b[0;34m[\u001b[0m\u001b[0mi\u001b[0m\u001b[0;34m]\u001b[0m\u001b[0;34m[\u001b[0m\u001b[0;36m0\u001b[0m\u001b[0;34m]\u001b[0m\u001b[0;34m]\u001b[0m\u001b[0;34m=\u001b[0m\u001b[0mdfi\u001b[0m\u001b[0;34m[\u001b[0m\u001b[0mi\u001b[0m\u001b[0;34m]\u001b[0m\u001b[0;34m.\u001b[0m\u001b[0mround\u001b[0m\u001b[0;34m(\u001b[0m\u001b[0mdecimals\u001b[0m \u001b[0;34m=\u001b[0m \u001b[0;36m4\u001b[0m\u001b[0;34m)\u001b[0m\u001b[0;34m\u001b[0m\u001b[0;34m\u001b[0m\u001b[0m\n\u001b[1;32m     28\u001b[0m \u001b[0;34m\u001b[0m\u001b[0m\n\u001b[0;32m---> 29\u001b[0;31m \u001b[0mvariable_creation\u001b[0m\u001b[0;34m(\u001b[0m\u001b[0mfilename\u001b[0m\u001b[0;34m)\u001b[0m\u001b[0;34m\u001b[0m\u001b[0;34m\u001b[0m\u001b[0m\n\u001b[0m\u001b[1;32m     30\u001b[0m \u001b[0;34m\u001b[0m\u001b[0m\n\u001b[1;32m     31\u001b[0m \u001b[0;32mdef\u001b[0m \u001b[0mpd_df_mef\u001b[0m\u001b[0;34m(\u001b[0m\u001b[0mdf\u001b[0m\u001b[0;34m,\u001b[0m\u001b[0mnb_round\u001b[0m\u001b[0;34m)\u001b[0m\u001b[0;34m:\u001b[0m\u001b[0;34m\u001b[0m\u001b[0;34m\u001b[0m\u001b[0m\n",
      "\u001b[0;31mNameError\u001b[0m: name 'filename' is not defined"
     ]
    }
   ],
   "source": [
    "# pd.set_option('display.float_format', '{:.1f}'.format)\n",
    "\n",
    "def variable_creation(filepath):\n",
    "    \n",
    "    # Lecture du tableau export_data du fichier filename.\n",
    "    df = pd.read_excel(filepath, sheet_name=\"export_data\",\n",
    "                             engine=\"openpyxl\").dropna(how='all')\n",
    "    df = df.to_numpy()\n",
    "    \n",
    "    # Initialisation tableau des variables à importer dans Jupyter.\n",
    "    dfi = [0]*(df.shape[0])\n",
    "    for i in range(0,df.shape[0]):\n",
    "\n",
    "        # Routine pour extraire et enregistrer les valeurs depuis le fichier Excel/Ods\n",
    "        name_sheet = df[i][2]\n",
    "        col_use = df[i][3]\n",
    "        skip_r = df[i][4]-1\n",
    "        n_row = df[i][5]   \n",
    "        # Extraction et création de la variable i du tableur --> python (numpy)\n",
    "        dfi[i] = pd.read_excel(filepath, \n",
    "                  sheet_name = name_sheet, \n",
    "                  skiprows = skip_r,  \n",
    "                  nrows= n_row, \n",
    "                  usecols = col_use,\n",
    "                  engine=\"openpyxl\").dropna(how='all')\n",
    "        dfi[i] = dfi[i].replace(np.nan, '', regex=True)\n",
    "        globals()[df[i][0]]=dfi[i].round(decimals = 4) \n",
    "        \n",
    "variable_creation(filename)\n",
    "\n",
    "def pd_df_mef(df,nb_round):\n",
    "           \n",
    "    styler = df.style.hide(axis='index')\\\n",
    "    .set_properties(subset=[df.columns[0]],\n",
    "                    **{'font-weight': '', 'background-color': 'white', 'color': ''})\\\n",
    "    .set_caption('')\\\n",
    "    .format(precision=nb_round)\n",
    "    \n",
    "    return styler\n",
    "\n"
   ]
  },
  {
   "cell_type": "markdown",
   "id": "2692de00",
   "metadata": {
    "tags": []
   },
   "source": [
    "## Les intrants\n",
    "\n",
    "Nous vous présentons ici les différents intrants que vous avez selectionné ainsi que leurs caractéristiques :"
   ]
  },
  {
   "cell_type": "code",
   "execution_count": 6,
   "id": "20216ece",
   "metadata": {
    "tags": [
     "hide_input"
    ]
   },
   "outputs": [
    {
     "ename": "NameError",
     "evalue": "name 'pd_df_mef' is not defined",
     "output_type": "error",
     "traceback": [
      "\u001b[0;31m---------------------------------------------------------------------------\u001b[0m",
      "\u001b[0;31mNameError\u001b[0m                                 Traceback (most recent call last)",
      "\u001b[0;32m/tmp/ipykernel_253122/1895691012.py\u001b[0m in \u001b[0;36m<cell line: 1>\u001b[0;34m()\u001b[0m\n\u001b[0;32m----> 1\u001b[0;31m \u001b[0mpd_df_mef\u001b[0m\u001b[0;34m(\u001b[0m\u001b[0mtab_intrant\u001b[0m\u001b[0;34m,\u001b[0m\u001b[0;36m2\u001b[0m\u001b[0;34m)\u001b[0m\u001b[0;34m\u001b[0m\u001b[0;34m\u001b[0m\u001b[0m\n\u001b[0m",
      "\u001b[0;31mNameError\u001b[0m: name 'pd_df_mef' is not defined"
     ]
    }
   ],
   "source": [
    "pd_df_mef(tab_intrant,2)"
   ]
  },
  {
   "cell_type": "markdown",
   "id": "64dfffaf",
   "metadata": {
    "tags": []
   },
   "source": [
    "## Les informations digesteurs\n",
    "\n",
    "Retrouvez ici les informations propres aux digesteurs :"
   ]
  },
  {
   "cell_type": "code",
   "execution_count": 7,
   "id": "dedff85c",
   "metadata": {
    "tags": [
     "hide_input",
     "output_scroll"
    ]
   },
   "outputs": [
    {
     "ename": "NameError",
     "evalue": "name 'pd_df_mef' is not defined",
     "output_type": "error",
     "traceback": [
      "\u001b[0;31m---------------------------------------------------------------------------\u001b[0m",
      "\u001b[0;31mNameError\u001b[0m                                 Traceback (most recent call last)",
      "\u001b[0;32m/tmp/ipykernel_253122/3684153403.py\u001b[0m in \u001b[0;36m<cell line: 1>\u001b[0;34m()\u001b[0m\n\u001b[0;32m----> 1\u001b[0;31m \u001b[0mpd_df_mef\u001b[0m\u001b[0;34m(\u001b[0m\u001b[0minfo_dig\u001b[0m\u001b[0;34m,\u001b[0m\u001b[0;36m2\u001b[0m\u001b[0;34m)\u001b[0m\u001b[0;34m\u001b[0m\u001b[0;34m\u001b[0m\u001b[0m\n\u001b[0m",
      "\u001b[0;31mNameError\u001b[0m: name 'pd_df_mef' is not defined"
     ]
    }
   ],
   "source": [
    "pd_df_mef(info_dig,2)"
   ]
  },
  {
   "cell_type": "markdown",
   "id": "7bf5cbd5",
   "metadata": {},
   "source": [
    "## Les informations techniques\n",
    "\n",
    "Ici les informations techniques :"
   ]
  },
  {
   "cell_type": "code",
   "execution_count": 15,
   "id": "b9abdeec",
   "metadata": {
    "tags": [
     "hide_input"
    ]
   },
   "outputs": [
    {
     "data": {
      "text/html": [
       "<style type=\"text/css\">\n",
       "#T_fabc9_row0_col0, #T_fabc9_row1_col0, #T_fabc9_row2_col0, #T_fabc9_row3_col0, #T_fabc9_row4_col0 {\n",
       "  font-weight: ;\n",
       "  background-color: white;\n",
       "  color: ;\n",
       "}\n",
       "</style>\n",
       "<table id=\"T_fabc9\">\n",
       "  <thead>\n",
       "    <tr>\n",
       "      <th id=\"T_fabc9_level0_col0\" class=\"col_heading level0 col0\" >En °C</th>\n",
       "      <th id=\"T_fabc9_level0_col1\" class=\"col_heading level0 col1\" >Janvier</th>\n",
       "      <th id=\"T_fabc9_level0_col2\" class=\"col_heading level0 col2\" >Février</th>\n",
       "      <th id=\"T_fabc9_level0_col3\" class=\"col_heading level0 col3\" >Mars</th>\n",
       "      <th id=\"T_fabc9_level0_col4\" class=\"col_heading level0 col4\" >Avril</th>\n",
       "      <th id=\"T_fabc9_level0_col5\" class=\"col_heading level0 col5\" >Mai</th>\n",
       "      <th id=\"T_fabc9_level0_col6\" class=\"col_heading level0 col6\" >Juin</th>\n",
       "      <th id=\"T_fabc9_level0_col7\" class=\"col_heading level0 col7\" >Juillet</th>\n",
       "      <th id=\"T_fabc9_level0_col8\" class=\"col_heading level0 col8\" >Août</th>\n",
       "      <th id=\"T_fabc9_level0_col9\" class=\"col_heading level0 col9\" >Septembre</th>\n",
       "      <th id=\"T_fabc9_level0_col10\" class=\"col_heading level0 col10\" >Octobre</th>\n",
       "      <th id=\"T_fabc9_level0_col11\" class=\"col_heading level0 col11\" >Novembre</th>\n",
       "      <th id=\"T_fabc9_level0_col12\" class=\"col_heading level0 col12\" >Décembre</th>\n",
       "    </tr>\n",
       "  </thead>\n",
       "  <tbody>\n",
       "    <tr>\n",
       "      <td id=\"T_fabc9_row0_col0\" class=\"data row0 col0\" >Temperature à 2m</td>\n",
       "      <td id=\"T_fabc9_row0_col1\" class=\"data row0 col1\" >5.6</td>\n",
       "      <td id=\"T_fabc9_row0_col2\" class=\"data row0 col2\" >5.3</td>\n",
       "      <td id=\"T_fabc9_row0_col3\" class=\"data row0 col3\" >6.5</td>\n",
       "      <td id=\"T_fabc9_row0_col4\" class=\"data row0 col4\" >9.7</td>\n",
       "      <td id=\"T_fabc9_row0_col5\" class=\"data row0 col5\" >13.5</td>\n",
       "      <td id=\"T_fabc9_row0_col6\" class=\"data row0 col6\" >18.3</td>\n",
       "      <td id=\"T_fabc9_row0_col7\" class=\"data row0 col7\" >21.6</td>\n",
       "      <td id=\"T_fabc9_row0_col8\" class=\"data row0 col8\" >21.3</td>\n",
       "      <td id=\"T_fabc9_row0_col9\" class=\"data row0 col9\" >18.5</td>\n",
       "      <td id=\"T_fabc9_row0_col10\" class=\"data row0 col10\" >11.5</td>\n",
       "      <td id=\"T_fabc9_row0_col11\" class=\"data row0 col11\" >7.7</td>\n",
       "      <td id=\"T_fabc9_row0_col12\" class=\"data row0 col12\" >5.2</td>\n",
       "    </tr>\n",
       "    <tr>\n",
       "      <td id=\"T_fabc9_row1_col0\" class=\"data row1 col0\" >Temperature sous-sol</td>\n",
       "      <td id=\"T_fabc9_row1_col1\" class=\"data row1 col1\" >15.6</td>\n",
       "      <td id=\"T_fabc9_row1_col2\" class=\"data row1 col2\" >15.3</td>\n",
       "      <td id=\"T_fabc9_row1_col3\" class=\"data row1 col3\" >16.5</td>\n",
       "      <td id=\"T_fabc9_row1_col4\" class=\"data row1 col4\" >19.7</td>\n",
       "      <td id=\"T_fabc9_row1_col5\" class=\"data row1 col5\" >19.7</td>\n",
       "      <td id=\"T_fabc9_row1_col6\" class=\"data row1 col6\" >19.7</td>\n",
       "      <td id=\"T_fabc9_row1_col7\" class=\"data row1 col7\" >19.7</td>\n",
       "      <td id=\"T_fabc9_row1_col8\" class=\"data row1 col8\" >19.7</td>\n",
       "      <td id=\"T_fabc9_row1_col9\" class=\"data row1 col9\" >19.7</td>\n",
       "      <td id=\"T_fabc9_row1_col10\" class=\"data row1 col10\" >19.7</td>\n",
       "      <td id=\"T_fabc9_row1_col11\" class=\"data row1 col11\" >17.7</td>\n",
       "      <td id=\"T_fabc9_row1_col12\" class=\"data row1 col12\" >15.2</td>\n",
       "    </tr>\n",
       "    <tr>\n",
       "      <td id=\"T_fabc9_row2_col0\" class=\"data row2 col0\" >Dejection humaine</td>\n",
       "      <td id=\"T_fabc9_row2_col1\" class=\"data row2 col1\" >3.6</td>\n",
       "      <td id=\"T_fabc9_row2_col2\" class=\"data row2 col2\" >3.3</td>\n",
       "      <td id=\"T_fabc9_row2_col3\" class=\"data row2 col3\" >4.5</td>\n",
       "      <td id=\"T_fabc9_row2_col4\" class=\"data row2 col4\" >7.7</td>\n",
       "      <td id=\"T_fabc9_row2_col5\" class=\"data row2 col5\" >11.5</td>\n",
       "      <td id=\"T_fabc9_row2_col6\" class=\"data row2 col6\" >17.0</td>\n",
       "      <td id=\"T_fabc9_row2_col7\" class=\"data row2 col7\" >17.0</td>\n",
       "      <td id=\"T_fabc9_row2_col8\" class=\"data row2 col8\" >3.6</td>\n",
       "      <td id=\"T_fabc9_row2_col9\" class=\"data row2 col9\" >3.3</td>\n",
       "      <td id=\"T_fabc9_row2_col10\" class=\"data row2 col10\" >4.5</td>\n",
       "      <td id=\"T_fabc9_row2_col11\" class=\"data row2 col11\" >7.7</td>\n",
       "      <td id=\"T_fabc9_row2_col12\" class=\"data row2 col12\" >11.5</td>\n",
       "    </tr>\n",
       "    <tr>\n",
       "      <td id=\"T_fabc9_row3_col0\" class=\"data row3 col0\" >Epluchure</td>\n",
       "      <td id=\"T_fabc9_row3_col1\" class=\"data row3 col1\" >3.6</td>\n",
       "      <td id=\"T_fabc9_row3_col2\" class=\"data row3 col2\" >3.3</td>\n",
       "      <td id=\"T_fabc9_row3_col3\" class=\"data row3 col3\" >4.5</td>\n",
       "      <td id=\"T_fabc9_row3_col4\" class=\"data row3 col4\" >7.7</td>\n",
       "      <td id=\"T_fabc9_row3_col5\" class=\"data row3 col5\" >11.5</td>\n",
       "      <td id=\"T_fabc9_row3_col6\" class=\"data row3 col6\" >17.0</td>\n",
       "      <td id=\"T_fabc9_row3_col7\" class=\"data row3 col7\" >17.0</td>\n",
       "      <td id=\"T_fabc9_row3_col8\" class=\"data row3 col8\" >3.6</td>\n",
       "      <td id=\"T_fabc9_row3_col9\" class=\"data row3 col9\" >3.3</td>\n",
       "      <td id=\"T_fabc9_row3_col10\" class=\"data row3 col10\" >4.5</td>\n",
       "      <td id=\"T_fabc9_row3_col11\" class=\"data row3 col11\" >7.7</td>\n",
       "      <td id=\"T_fabc9_row3_col12\" class=\"data row3 col12\" >11.5</td>\n",
       "    </tr>\n",
       "    <tr>\n",
       "      <td id=\"T_fabc9_row4_col0\" class=\"data row4 col0\" >Eaux usées</td>\n",
       "      <td id=\"T_fabc9_row4_col1\" class=\"data row4 col1\" >3.6</td>\n",
       "      <td id=\"T_fabc9_row4_col2\" class=\"data row4 col2\" >3.3</td>\n",
       "      <td id=\"T_fabc9_row4_col3\" class=\"data row4 col3\" >4.5</td>\n",
       "      <td id=\"T_fabc9_row4_col4\" class=\"data row4 col4\" >7.7</td>\n",
       "      <td id=\"T_fabc9_row4_col5\" class=\"data row4 col5\" >11.5</td>\n",
       "      <td id=\"T_fabc9_row4_col6\" class=\"data row4 col6\" >17.0</td>\n",
       "      <td id=\"T_fabc9_row4_col7\" class=\"data row4 col7\" >17.0</td>\n",
       "      <td id=\"T_fabc9_row4_col8\" class=\"data row4 col8\" >3.6</td>\n",
       "      <td id=\"T_fabc9_row4_col9\" class=\"data row4 col9\" >3.3</td>\n",
       "      <td id=\"T_fabc9_row4_col10\" class=\"data row4 col10\" >4.5</td>\n",
       "      <td id=\"T_fabc9_row4_col11\" class=\"data row4 col11\" >7.7</td>\n",
       "      <td id=\"T_fabc9_row4_col12\" class=\"data row4 col12\" >11.5</td>\n",
       "    </tr>\n",
       "  </tbody>\n",
       "</table>\n"
      ],
      "text/plain": [
       "<pandas.io.formats.style.Styler at 0x7f9f182bd7c0>"
      ]
     },
     "execution_count": 15,
     "metadata": {},
     "output_type": "execute_result"
    }
   ],
   "source": [
    "pd_df_mef(tab_temperature,1)"
   ]
  },
  {
   "cell_type": "code",
   "execution_count": null,
   "id": "f74218ed-2ad2-4c2d-880f-2f477872c473",
   "metadata": {},
   "outputs": [],
   "source": []
  }
 ],
 "metadata": {
  "kernelspec": {
   "display_name": "Python 3 (ipykernel)",
   "language": "python",
   "name": "python3"
  },
  "language_info": {
   "codemirror_mode": {
    "name": "ipython",
    "version": 3
   },
   "file_extension": ".py",
   "mimetype": "text/x-python",
   "name": "python",
   "nbconvert_exporter": "python",
   "pygments_lexer": "ipython3",
   "version": "3.9.13"
  }
 },
 "nbformat": 4,
 "nbformat_minor": 5
}