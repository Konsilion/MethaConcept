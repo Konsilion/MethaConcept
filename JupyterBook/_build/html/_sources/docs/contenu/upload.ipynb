{
 "cells": [
  {
   "cell_type": "code",
   "execution_count": 4,
   "id": "58ced0c0-b59f-4f5c-8929-2a700489f595",
   "metadata": {},
   "outputs": [],
   "source": [
    "import ipywidgets as widgets"
   ]
  },
  {
   "cell_type": "markdown",
   "id": "3b7f75be-e68e-4401-a0a1-50eb6a42f4ef",
   "metadata": {},
   "source": [
    "# Importer vos données"
   ]
  },
  {
   "cell_type": "code",
   "execution_count": 5,
   "id": "9686a29f-a211-41ca-af30-7d454f51d6fd",
   "metadata": {},
   "outputs": [
    {
     "data": {
      "application/vnd.jupyter.widget-view+json": {
       "model_id": "edd62264d020441a9a7fb11a0eeb3859",
       "version_major": 2,
       "version_minor": 0
      },
      "text/plain": [
       "FileUpload(value={}, accept='.xlsx', description='Upload')"
      ]
     },
     "metadata": {},
     "output_type": "display_data"
    }
   ],
   "source": [
    "uploader = widgets.FileUpload(\n",
    "    accept='.xlsx',  # Accepted file extension e.g. '.txt', '.pdf', 'image/*', 'image/*,.pdf'\n",
    "    multiple=False  # True to accept multiple files upload else False\n",
    ")\n",
    "\n",
    "display(uploader)\n"
   ]
  },
  {
   "cell_type": "code",
   "execution_count": 10,
   "id": "06a047c8-e95e-437f-9cc7-4652398e8327",
   "metadata": {},
   "outputs": [],
   "source": [
    "uploaded_file = uploader.value['MetaConcept.xlsx']"
   ]
  },
  {
   "cell_type": "code",
   "execution_count": null,
   "id": "3d1311eb-a593-4c2b-957e-d68253ff0d6e",
   "metadata": {},
   "outputs": [],
   "source": []
  }
 ],
 "metadata": {
  "kernelspec": {
   "display_name": "Python 3 (ipykernel)",
   "language": "python",
   "name": "python3"
  },
  "language_info": {
   "codemirror_mode": {
    "name": "ipython",
    "version": 3
   },
   "file_extension": ".py",
   "mimetype": "text/x-python",
   "name": "python",
   "nbconvert_exporter": "python",
   "pygments_lexer": "ipython3",
   "version": "3.9.13"
  }
 },
 "nbformat": 4,
 "nbformat_minor": 5
}
